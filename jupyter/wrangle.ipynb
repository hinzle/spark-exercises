{
 "cells": [
  {
   "cell_type": "code",
   "execution_count": 1,
   "id": "782a8e6c-1d7b-4fe2-85a2-09596d4ac742",
   "metadata": {},
   "outputs": [
    {
     "name": "stderr",
     "output_type": "stream",
     "text": [
      "22/05/25 22:12:22 WARN Utils: Your hostname, hinzles-MacBook-Pro.local resolves to a loopback address: 127.0.0.1; using 192.168.86.244 instead (on interface en0)\n",
      "22/05/25 22:12:22 WARN Utils: Set SPARK_LOCAL_IP if you need to bind to another address\n",
      "WARNING: An illegal reflective access operation has occurred\n",
      "WARNING: Illegal reflective access by org.apache.spark.unsafe.Platform (file:/usr/local/anaconda3/lib/python3.9/site-packages/pyspark/jars/spark-unsafe_2.12-3.2.1.jar) to constructor java.nio.DirectByteBuffer(long,int)\n",
      "WARNING: Please consider reporting this to the maintainers of org.apache.spark.unsafe.Platform\n",
      "WARNING: Use --illegal-access=warn to enable warnings of further illegal reflective access operations\n",
      "WARNING: All illegal access operations will be denied in a future release\n",
      "Using Spark's default log4j profile: org/apache/spark/log4j-defaults.properties\n",
      "Setting default log level to \"WARN\".\n",
      "To adjust logging level use sc.setLogLevel(newLevel). For SparkR, use setLogLevel(newLevel).\n",
      "22/05/25 22:12:22 WARN NativeCodeLoader: Unable to load native-hadoop library for your platform... using builtin-java classes where applicable\n"
     ]
    }
   ],
   "source": [
    "from pyspark.sql import SparkSession\n",
    "from pyspark.sql.functions import *\n",
    "spark = SparkSession.builder.getOrCreate()"
   ]
  },
  {
   "cell_type": "markdown",
   "id": "4321343d-42b5-4ef2-bc38-8905b5252f3b",
   "metadata": {},
   "source": [
    "This exercises uses the case.csv, dept.csv, and source.csv files from the san antonio 311 call dataset.\n",
    "\n",
    "# 1.) Read the case, department, and source data into their own spark dataframes."
   ]
  },
  {
   "cell_type": "code",
   "execution_count": 4,
   "id": "2deeb545-139a-49e7-8261-db52c7f9d31e",
   "metadata": {},
   "outputs": [
    {
     "name": "stderr",
     "output_type": "stream",
     "text": [
      "                                                                                \r"
     ]
    }
   ],
   "source": [
    "case = spark.read.csv(\"/Users/hinzlehome/codeup-data-science/spark-exercises/csv/case.csv\", sep=\",\", header=True, inferSchema=True)"
   ]
  },
  {
   "cell_type": "code",
   "execution_count": 5,
   "id": "24bf4814-eb72-4fbc-b4f6-28a1cbfd2fbb",
   "metadata": {},
   "outputs": [
    {
     "name": "stdout",
     "output_type": "stream",
     "text": [
      "-RECORD 0----------------------------------------------------\n",
      " case_id              | 1014127332                           \n",
      " case_opened_date     | 1/1/18 0:42                          \n",
      " case_closed_date     | 1/1/18 12:29                         \n",
      " SLA_due_date         | 9/26/20 0:42                         \n",
      " case_late            | NO                                   \n",
      " num_days_late        | -998.5087616000001                   \n",
      " case_closed          | YES                                  \n",
      " dept_division        | Field Operations                     \n",
      " service_request_type | Stray Animal                         \n",
      " SLA_days             | 999.0                                \n",
      " case_status          | Closed                               \n",
      " source_id            | svcCRMLS                             \n",
      " request_address      | 2315  EL PASO ST, San Antonio, 78207 \n",
      " council_district     | 5                                    \n",
      "only showing top 1 row\n",
      "\n"
     ]
    }
   ],
   "source": [
    "case.show(1, vertical=True, truncate=False)"
   ]
  },
  {
   "cell_type": "code",
   "execution_count": 7,
   "id": "0e803492-d7ec-43d3-ab3d-3ed3173b7f2e",
   "metadata": {},
   "outputs": [],
   "source": [
    "dpt = spark.read.csv(\"/Users/hinzlehome/codeup-data-science/spark-exercises/csv/dept.csv\", sep=\",\", header=True, inferSchema=True)"
   ]
  },
  {
   "cell_type": "code",
   "execution_count": 8,
   "id": "3ecf57f5-24e7-46f3-99d6-b7d6c0ba8e13",
   "metadata": {},
   "outputs": [
    {
     "name": "stdout",
     "output_type": "stream",
     "text": [
      "-RECORD 0----------------------------------\n",
      " dept_division          | 311 Call Center  \n",
      " dept_name              | Customer Service \n",
      " standardized_dept_name | Customer Service \n",
      " dept_subject_to_SLA    | YES              \n",
      "only showing top 1 row\n",
      "\n"
     ]
    }
   ],
   "source": [
    "dpt.show(1, vertical=True, truncate=False)"
   ]
  },
  {
   "cell_type": "code",
   "execution_count": 10,
   "id": "f3a2db15-e01b-479d-9809-b636605621ad",
   "metadata": {},
   "outputs": [],
   "source": [
    "source = spark.read.csv(\"/Users/hinzlehome/codeup-data-science/spark-exercises/csv/source.csv\", sep=\",\", header=True, inferSchema=True)"
   ]
  },
  {
   "cell_type": "code",
   "execution_count": 11,
   "id": "529cc29a-057f-46e2-8778-834c31c1c907",
   "metadata": {},
   "outputs": [
    {
     "name": "stdout",
     "output_type": "stream",
     "text": [
      "-RECORD 0---------------------------\n",
      " source_id       | 100137           \n",
      " source_username | Merlene Blodgett \n",
      "only showing top 1 row\n",
      "\n"
     ]
    }
   ],
   "source": [
    "source.show(1, vertical = True, truncate=False)"
   ]
  },
  {
   "cell_type": "markdown",
   "id": "948945e7-0395-4318-9bfc-b656ead549f5",
   "metadata": {},
   "source": [
    "# 2.) Let's see how writing to the local disk works in spark:"
   ]
  },
  {
   "cell_type": "markdown",
   "id": "86e82b6c-817d-401a-b82c-b66e1fa1fbe7",
   "metadata": {},
   "source": [
    "Write the code necessary to store the source data in both csv and json format, store these as sources_csv and sources_json"
   ]
  },
  {
   "cell_type": "code",
   "execution_count": 12,
   "id": "815af4e5-1e12-4dd5-9c08-937f7ba2b51d",
   "metadata": {},
   "outputs": [],
   "source": [
    "source.write.json(\"data/sources_json\", mode=\"overwrite\")"
   ]
  },
  {
   "cell_type": "code",
   "execution_count": 13,
   "id": "41d86c6c-4a35-454a-bdd5-2995a13a86d1",
   "metadata": {},
   "outputs": [],
   "source": [
    "source.write.csv(\"data/sources_csv\", mode=\"overwrite\")"
   ]
  },
  {
   "cell_type": "markdown",
   "id": "aaae4745-7c8c-4db2-819d-f4a734a640ce",
   "metadata": {},
   "source": [
    "Inspect your folder structure. What do you notice?"
   ]
  },
  {
   "cell_type": "code",
   "execution_count": 14,
   "id": "c97e0a7b-31dc-41a4-aec3-6a248b45255b",
   "metadata": {},
   "outputs": [],
   "source": [
    "#In each folder, there is a success text file and the actual json or csv file"
   ]
  },
  {
   "cell_type": "markdown",
   "id": "556042d7-a974-4df7-998f-a70d6197c193",
   "metadata": {},
   "source": [
    "# 3.) Inspect the data in your dataframes. Are the data types appropriate? Write the code necessary to cast the values to the appropriate types."
   ]
  },
  {
   "cell_type": "code",
   "execution_count": 15,
   "id": "a4eb6306-3bfc-4b65-b95f-6aec74d81a9d",
   "metadata": {},
   "outputs": [
    {
     "name": "stdout",
     "output_type": "stream",
     "text": [
      "root\n",
      " |-- case_id: integer (nullable = true)\n",
      " |-- case_opened_date: string (nullable = true)\n",
      " |-- case_closed_date: string (nullable = true)\n",
      " |-- SLA_due_date: string (nullable = true)\n",
      " |-- case_late: string (nullable = true)\n",
      " |-- num_days_late: double (nullable = true)\n",
      " |-- case_closed: string (nullable = true)\n",
      " |-- dept_division: string (nullable = true)\n",
      " |-- service_request_type: string (nullable = true)\n",
      " |-- SLA_days: double (nullable = true)\n",
      " |-- case_status: string (nullable = true)\n",
      " |-- source_id: string (nullable = true)\n",
      " |-- request_address: string (nullable = true)\n",
      " |-- council_district: integer (nullable = true)\n",
      "\n"
     ]
    }
   ],
   "source": [
    "case.printSchema()"
   ]
  },
  {
   "cell_type": "code",
   "execution_count": 16,
   "id": "ee03e2db-8291-4175-924e-47fbfbd52d8e",
   "metadata": {},
   "outputs": [
    {
     "name": "stdout",
     "output_type": "stream",
     "text": [
      "root\n",
      " |-- dept_division: string (nullable = true)\n",
      " |-- dept_name: string (nullable = true)\n",
      " |-- standardized_dept_name: string (nullable = true)\n",
      " |-- dept_subject_to_SLA: string (nullable = true)\n",
      "\n"
     ]
    }
   ],
   "source": [
    "dpt.printSchema()"
   ]
  },
  {
   "cell_type": "code",
   "execution_count": 17,
   "id": "5c43c714-0df9-4712-bc44-b918c3f673a1",
   "metadata": {},
   "outputs": [
    {
     "name": "stdout",
     "output_type": "stream",
     "text": [
      "root\n",
      " |-- source_id: string (nullable = true)\n",
      " |-- source_username: string (nullable = true)\n",
      "\n"
     ]
    }
   ],
   "source": [
    "source.printSchema()"
   ]
  },
  {
   "cell_type": "markdown",
   "id": "799fb9bc-29dd-471e-bd64-b2fb370b7c04",
   "metadata": {},
   "source": [
    "---"
   ]
  },
  {
   "cell_type": "markdown",
   "id": "a1c9a6e0-354f-4aa0-be70-71b75f5aa56e",
   "metadata": {},
   "source": [
    "# 1.) How old is the latest (in terms of days past SLA) currently open issue? How long has the oldest (in terms of days since opened) currently opened issue been open?"
   ]
  },
  {
   "cell_type": "code",
   "execution_count": 18,
   "id": "56c44746-53c0-48b0-824b-d74cf0568f6b",
   "metadata": {},
   "outputs": [],
   "source": [
    "fmt = \"M/d/yy H:mm\"\n",
    "case = (\n",
    "    case.withColumn(\"case_opened_date\", to_timestamp(\"case_opened_date\", fmt))\n",
    "    .withColumn(\"case_closed_date\", to_timestamp(\"case_opened_date\", fmt))\n",
    "    .withColumn(\"case_due_date\", to_timestamp(\"case_opened_date\", fmt))\n",
    "    .withColumn(\"SLA_due_date\", to_timestamp(\"SLA_due_date\", fmt))\n",
    ")"
   ]
  },
  {
   "cell_type": "code",
   "execution_count": 19,
   "id": "66c5cf54-ea30-4f4c-bd5d-40e5cf2c1ffc",
   "metadata": {},
   "outputs": [],
   "source": [
    "open_cases = (\n",
    "    case.filter(expr('case_closed == \"NO\"'))\n",
    "    .withColumn('days_past_SLA', datediff(current_timestamp(),'SLA_due_date'))\n",
    "    .withColumn('duration', datediff(current_timestamp(),'case_opened_date'))\n",
    ")"
   ]
  },
  {
   "cell_type": "code",
   "execution_count": 20,
   "id": "f1f6994f-b013-402e-bad5-d369cf39e902",
   "metadata": {},
   "outputs": [
    {
     "name": "stderr",
     "output_type": "stream",
     "text": [
      "[Stage 11:>                                                       (0 + 16) / 16]\r"
     ]
    },
    {
     "name": "stdout",
     "output_type": "stream",
     "text": [
      "+------------------+\n",
      "|min(days_past_SLA)|\n",
      "+------------------+\n",
      "|                -2|\n",
      "+------------------+\n",
      "\n"
     ]
    },
    {
     "name": "stderr",
     "output_type": "stream",
     "text": [
      "                                                                                \r"
     ]
    }
   ],
   "source": [
    "#most recent \n",
    "open_cases.select(min('days_past_SLA')).show()"
   ]
  },
  {
   "cell_type": "code",
   "execution_count": 21,
   "id": "9fc7d058-532f-405b-8920-29899e0209c1",
   "metadata": {},
   "outputs": [
    {
     "name": "stdout",
     "output_type": "stream",
     "text": [
      "+-------------+\n",
      "|max(duration)|\n",
      "+-------------+\n",
      "|         1970|\n",
      "+-------------+\n",
      "\n"
     ]
    }
   ],
   "source": [
    "#oldest duration\n",
    "open_cases.select(max('duration')).show()"
   ]
  },
  {
   "cell_type": "markdown",
   "id": "ce6df4ea-11ff-41c3-9b88-9c5b8f90157c",
   "metadata": {},
   "source": [
    "# 2.) How many Stray Animal cases are there?"
   ]
  },
  {
   "cell_type": "code",
   "execution_count": 22,
   "id": "f24855b1-e461-4a06-b7ba-1140baaabc25",
   "metadata": {},
   "outputs": [
    {
     "data": {
      "text/plain": [
       "26760"
      ]
     },
     "execution_count": 22,
     "metadata": {},
     "output_type": "execute_result"
    }
   ],
   "source": [
    "case.where(expr(\n",
    "    'service_request_type==\"Stray Animal\"')).count()"
   ]
  },
  {
   "cell_type": "markdown",
   "id": "bd9ea87e-8429-4c80-a139-d90bb78c545b",
   "metadata": {},
   "source": [
    "# 3.) How many service requests that are assigned to the Field Operations department (dept_division) are not classified as \"Officer Standby\" request type (service_request_type)?"
   ]
  },
  {
   "cell_type": "code",
   "execution_count": 23,
   "id": "96b1354a-cc32-414c-af58-b13843a78677",
   "metadata": {},
   "outputs": [
    {
     "data": {
      "text/plain": [
       "113902"
      ]
     },
     "execution_count": 23,
     "metadata": {},
     "output_type": "execute_result"
    }
   ],
   "source": [
    "#dept division is field operations and service request type is not officer standby\n",
    "(case.where(expr('dept_division == \"Field Operations\"'))\n",
    ".where(expr('service_request_type != \"Officer Standby\"'))).count()"
   ]
  },
  {
   "cell_type": "markdown",
   "id": "945e384a-c3df-4f64-ad9e-556764c61a1b",
   "metadata": {},
   "source": [
    "# 4.) Convert the council_district column to a string column."
   ]
  },
  {
   "cell_type": "code",
   "execution_count": 24,
   "id": "d6fc2a78-9115-4247-a763-659357f24414",
   "metadata": {},
   "outputs": [
    {
     "name": "stdout",
     "output_type": "stream",
     "text": [
      "+----------------+\n",
      "|council_district|\n",
      "+----------------+\n",
      "|               5|\n",
      "|               3|\n",
      "|               3|\n",
      "|               3|\n",
      "|               7|\n",
      "+----------------+\n",
      "only showing top 5 rows\n",
      "\n"
     ]
    }
   ],
   "source": [
    "case.select(case.council_district.cast('string')).show(5)"
   ]
  },
  {
   "cell_type": "code",
   "execution_count": 25,
   "id": "c20099a7-22e6-4850-9e6b-6d335b23ddcf",
   "metadata": {},
   "outputs": [],
   "source": [
    "#case = case.council_district.cast('string')"
   ]
  },
  {
   "cell_type": "code",
   "execution_count": 26,
   "id": "595dc4ae-a788-4d74-b1b4-bf5ade305c8d",
   "metadata": {},
   "outputs": [],
   "source": [
    "case = case.withColumn(\"council_district\",col(\"council_district\").cast(\"string\"))"
   ]
  },
  {
   "cell_type": "code",
   "execution_count": 27,
   "id": "32fc41f1-26e7-42fa-8250-d9bee00bc577",
   "metadata": {},
   "outputs": [
    {
     "name": "stdout",
     "output_type": "stream",
     "text": [
      "root\n",
      " |-- case_id: integer (nullable = true)\n",
      " |-- case_opened_date: timestamp (nullable = true)\n",
      " |-- case_closed_date: timestamp (nullable = true)\n",
      " |-- SLA_due_date: timestamp (nullable = true)\n",
      " |-- case_late: string (nullable = true)\n",
      " |-- num_days_late: double (nullable = true)\n",
      " |-- case_closed: string (nullable = true)\n",
      " |-- dept_division: string (nullable = true)\n",
      " |-- service_request_type: string (nullable = true)\n",
      " |-- SLA_days: double (nullable = true)\n",
      " |-- case_status: string (nullable = true)\n",
      " |-- source_id: string (nullable = true)\n",
      " |-- request_address: string (nullable = true)\n",
      " |-- council_district: string (nullable = true)\n",
      " |-- case_due_date: timestamp (nullable = true)\n",
      "\n"
     ]
    }
   ],
   "source": [
    "case.printSchema()"
   ]
  },
  {
   "cell_type": "markdown",
   "id": "53458527-90b6-439b-8f4c-6aa4b3b8d13a",
   "metadata": {},
   "source": [
    "# 5.) Extract the year from the case_closed_date column."
   ]
  },
  {
   "cell_type": "code",
   "execution_count": 28,
   "id": "19f2efba-b24c-4ccd-bd7c-81f8eb8a0dd5",
   "metadata": {},
   "outputs": [],
   "source": [
    "year = case.withColumn('year', year('case_closed_date'))"
   ]
  },
  {
   "cell_type": "code",
   "execution_count": 29,
   "id": "9f42825a-096e-4154-a55b-ac327593372d",
   "metadata": {},
   "outputs": [
    {
     "name": "stdout",
     "output_type": "stream",
     "text": [
      "+----+\n",
      "|year|\n",
      "+----+\n",
      "|2018|\n",
      "|2018|\n",
      "|2018|\n",
      "|2018|\n",
      "|2018|\n",
      "|2018|\n",
      "|2018|\n",
      "|2018|\n",
      "|2018|\n",
      "|2018|\n",
      "|2018|\n",
      "|2018|\n",
      "|2018|\n",
      "|2018|\n",
      "|2018|\n",
      "|2018|\n",
      "|2018|\n",
      "|2018|\n",
      "|2018|\n",
      "|2018|\n",
      "+----+\n",
      "only showing top 20 rows\n",
      "\n"
     ]
    }
   ],
   "source": [
    "year.select('year').show()"
   ]
  },
  {
   "cell_type": "markdown",
   "id": "50e89b60-4c35-4bfb-9db2-39621dd6ed9e",
   "metadata": {},
   "source": [
    "# 6.) Convert num_days_late from days to hours in new columns num_hours_late."
   ]
  },
  {
   "cell_type": "code",
   "execution_count": 30,
   "id": "7d499b6e-4be1-4c79-9d17-eeaa9d2a3d4b",
   "metadata": {},
   "outputs": [
    {
     "name": "stdout",
     "output_type": "stream",
     "text": [
      "+-------------------+-------------------+\n",
      "|      num_days_late|     num_hours_late|\n",
      "+-------------------+-------------------+\n",
      "| -998.5087616000001|     -23964.2102784|\n",
      "|-2.0126041669999997|-48.302500007999996|\n",
      "|       -3.022337963|      -72.536111112|\n",
      "|       -15.01148148|      -360.27555552|\n",
      "|0.37216435200000003|  8.931944448000001|\n",
      "+-------------------+-------------------+\n",
      "only showing top 5 rows\n",
      "\n"
     ]
    }
   ],
   "source": [
    "case = case.withColumn(\n",
    "    \"num_hours_late\", expr(\"num_days_late * 24 AS num_hours_late\")\n",
    ")\n",
    "\n",
    "case.select(\"num_days_late\", \"num_hours_late\").show(5)"
   ]
  },
  {
   "cell_type": "markdown",
   "id": "aa7cf543-6807-4ba3-b182-b3e6db6a2df1",
   "metadata": {},
   "source": [
    "# 7.) Join the case data with the source and department data."
   ]
  },
  {
   "cell_type": "code",
   "execution_count": 31,
   "id": "445136d9-c77b-42a6-af1d-35c9d05dbdc5",
   "metadata": {},
   "outputs": [],
   "source": [
    "df = case.join(source, on=case.source_id == source.source_id, how = 'left').drop(source.source_id)"
   ]
  },
  {
   "cell_type": "code",
   "execution_count": 32,
   "id": "17dd66e5-5a32-4876-b78f-e53f26b7f494",
   "metadata": {},
   "outputs": [],
   "source": [
    "df = df.join(dpt, on=df.dept_division == dpt.dept_division, how = 'left').drop(dpt.dept_division)"
   ]
  },
  {
   "cell_type": "code",
   "execution_count": 33,
   "id": "e97827b3-565f-4176-9d30-af98eb6f0495",
   "metadata": {},
   "outputs": [
    {
     "name": "stdout",
     "output_type": "stream",
     "text": [
      "-RECORD 0--------------------------------------\n",
      " case_id                | 1014127332           \n",
      " case_opened_date       | 2018-01-01 00:42:00  \n",
      " case_closed_date       | 2018-01-01 00:42:00  \n",
      " SLA_due_date           | 2020-09-26 00:42:00  \n",
      " case_late              | NO                   \n",
      " num_days_late          | -998.5087616000001   \n",
      " case_closed            | YES                  \n",
      " dept_division          | Field Operations     \n",
      " service_request_type   | Stray Animal         \n",
      " SLA_days               | 999.0                \n",
      " case_status            | Closed               \n",
      " source_id              | svcCRMLS             \n",
      " request_address        | 2315  EL PASO ST,... \n",
      " council_district       | 5                    \n",
      " case_due_date          | 2018-01-01 00:42:00  \n",
      " num_hours_late         | -23964.2102784       \n",
      " source_username        | svcCRMLS             \n",
      " dept_name              | Animal Care Services \n",
      " standardized_dept_name | Animal Care Services \n",
      " dept_subject_to_SLA    | YES                  \n",
      "-RECORD 1--------------------------------------\n",
      " case_id                | 1014127333           \n",
      " case_opened_date       | 2018-01-01 00:46:00  \n",
      " case_closed_date       | 2018-01-01 00:46:00  \n",
      " SLA_due_date           | 2018-01-05 08:30:00  \n",
      " case_late              | NO                   \n",
      " num_days_late          | -2.0126041669999997  \n",
      " case_closed            | YES                  \n",
      " dept_division          | Storm Water          \n",
      " service_request_type   | Removal Of Obstru... \n",
      " SLA_days               | 4.322222222          \n",
      " case_status            | Closed               \n",
      " source_id              | svcCRMSS             \n",
      " request_address        | 2215  GOLIAD RD, ... \n",
      " council_district       | 3                    \n",
      " case_due_date          | 2018-01-01 00:46:00  \n",
      " num_hours_late         | -48.302500007999996  \n",
      " source_username        | svcCRMSS             \n",
      " dept_name              | Trans & Cap Impro... \n",
      " standardized_dept_name | Trans & Cap Impro... \n",
      " dept_subject_to_SLA    | YES                  \n",
      "only showing top 2 rows\n",
      "\n"
     ]
    }
   ],
   "source": [
    "df.show(2, vertical = True)"
   ]
  },
  {
   "cell_type": "markdown",
   "id": "e9bbae23-cd2e-48d3-b893-3754363ac6ef",
   "metadata": {},
   "source": [
    "# 8.) Are there any cases that do not have a request source?"
   ]
  },
  {
   "cell_type": "code",
   "execution_count": 34,
   "id": "fb511f61-5f1b-4a3d-834d-4c5a56ac8063",
   "metadata": {},
   "outputs": [
    {
     "name": "stderr",
     "output_type": "stream",
     "text": [
      "                                                                                \r"
     ]
    },
    {
     "name": "stdout",
     "output_type": "stream",
     "text": [
      "(0 rows)\n",
      "\n"
     ]
    }
   ],
   "source": [
    "#no nulls\n",
    "df.filter(\"source_username is null\").show(vertical=True)"
   ]
  },
  {
   "cell_type": "markdown",
   "id": "4ce0d547-c79b-4893-b9a0-a88a904d0969",
   "metadata": {},
   "source": [
    "# 9.) What are the top 10 service request types in terms of number of requests?"
   ]
  },
  {
   "cell_type": "code",
   "execution_count": 35,
   "id": "35c89348-6483-432c-93ff-6206dfc24610",
   "metadata": {},
   "outputs": [
    {
     "name": "stderr",
     "output_type": "stream",
     "text": [
      "[Stage 36:===>                                                    (1 + 15) / 16]\r"
     ]
    },
    {
     "name": "stdout",
     "output_type": "stream",
     "text": [
      "+--------------------+-----+\n",
      "|service_request_type|count|\n",
      "+--------------------+-----+\n",
      "|           No Pickup|89210|\n",
      "|Overgrown Yard/Trash|66403|\n",
      "|        Bandit Signs|32968|\n",
      "|        Damaged Cart|31163|\n",
      "|Front Or Side Yar...|28920|\n",
      "|        Stray Animal|27361|\n",
      "|Aggressive Animal...|25492|\n",
      "|Cart Exchange Req...|22608|\n",
      "|Junk Vehicle On P...|21649|\n",
      "|     Pot Hole Repair|20827|\n",
      "+--------------------+-----+\n",
      "only showing top 10 rows\n",
      "\n"
     ]
    },
    {
     "name": "stderr",
     "output_type": "stream",
     "text": [
      "                                                                                \r"
     ]
    }
   ],
   "source": [
    "df.groupby('service_request_type').count().sort(col('count').desc()).show(10)"
   ]
  },
  {
   "cell_type": "markdown",
   "id": "3551b2b7-8589-4fe9-86d1-9cb7d32510bd",
   "metadata": {},
   "source": [
    "# 10.) What are the top 10 service request types in terms of average days late?"
   ]
  },
  {
   "cell_type": "code",
   "execution_count": 36,
   "id": "576825df-c89a-46f6-aa07-503d842b0aac",
   "metadata": {},
   "outputs": [
    {
     "name": "stdout",
     "output_type": "stream",
     "text": [
      "-RECORD 0------------------------------------------------------\n",
      " case_id                | 1014127332                           \n",
      " case_opened_date       | 2018-01-01 00:42:00                  \n",
      " case_closed_date       | 2018-01-01 00:42:00                  \n",
      " SLA_due_date           | 2020-09-26 00:42:00                  \n",
      " case_late              | NO                                   \n",
      " num_days_late          | -998.5087616000001                   \n",
      " case_closed            | YES                                  \n",
      " dept_division          | Field Operations                     \n",
      " service_request_type   | Stray Animal                         \n",
      " SLA_days               | 999.0                                \n",
      " case_status            | Closed                               \n",
      " source_id              | svcCRMLS                             \n",
      " request_address        | 2315  EL PASO ST, San Antonio, 78207 \n",
      " council_district       | 5                                    \n",
      " case_due_date          | 2018-01-01 00:42:00                  \n",
      " num_hours_late         | -23964.2102784                       \n",
      " source_username        | svcCRMLS                             \n",
      " dept_name              | Animal Care Services                 \n",
      " standardized_dept_name | Animal Care Services                 \n",
      " dept_subject_to_SLA    | YES                                  \n",
      "only showing top 1 row\n",
      "\n"
     ]
    }
   ],
   "source": [
    "df.show(1, False, True)"
   ]
  },
  {
   "cell_type": "code",
   "execution_count": 37,
   "id": "41c9dfba-ff8b-494a-8ef6-1ad083c135bb",
   "metadata": {},
   "outputs": [
    {
     "name": "stdout",
     "output_type": "stream",
     "text": [
      "+--------------------------------------+------------------+\n",
      "|service_request_type                  |avg(num_days_late)|\n",
      "+--------------------------------------+------------------+\n",
      "|Zoning: Recycle Yard                  |210.89201994318182|\n",
      "|Zoning: Junk Yards                    |200.2051760849428 |\n",
      "|Structure/Housing Maintenance         |190.20707698509807|\n",
      "|Donation Container Enforcement        |171.09115313942624|\n",
      "|Storage of Used Mattress              |163.96812829714287|\n",
      "|Labeling for Used Mattress            |162.43032902285717|\n",
      "|Record Keeping of Used Mattresses     |153.99724039428568|\n",
      "|Signage Requied for Sale of Used Mattr|151.63868055333333|\n",
      "|Traffic Signal Graffiti               |137.64583330000002|\n",
      "|License Requied Used Mattress Sales   |128.79828704142858|\n",
      "+--------------------------------------+------------------+\n",
      "only showing top 10 rows\n",
      "\n"
     ]
    }
   ],
   "source": [
    "df.where('case_late==\"YES\"')\\\n",
    ".groupBy('service_request_type')\\\n",
    ".agg(mean('num_days_late'))\\\n",
    ".sort(desc('avg(num_days_late)'))\\\n",
    ".show(10, truncate=False)"
   ]
  },
  {
   "cell_type": "markdown",
   "id": "51d1c043-29f5-4f55-8784-46e7ce488a95",
   "metadata": {},
   "source": [
    "# 11.) Does number of days late depend on department?"
   ]
  },
  {
   "cell_type": "code",
   "execution_count": 38,
   "id": "ded3aac4-f58d-42e3-b81a-acde7a84b91a",
   "metadata": {},
   "outputs": [
    {
     "name": "stdout",
     "output_type": "stream",
     "text": [
      "+------------------------+------------------+\n",
      "|standardized_dept_name  |avg(num_days_late)|\n",
      "+------------------------+------------------+\n",
      "|Customer Service        |88.18248182589826 |\n",
      "|DSD/Code Enforcement    |49.506339986350525|\n",
      "|Animal Care Services    |23.446729634738205|\n",
      "|Parks & Recreation      |22.42780719272415 |\n",
      "|Trans & Cap Improvements|10.662950455078676|\n",
      "|Solid Waste             |7.1471727895574135|\n",
      "|Metro Health            |6.494699602827868 |\n",
      "+------------------------+------------------+\n",
      "\n"
     ]
    }
   ],
   "source": [
    "df.where('case_late==\"YES\"')\\\n",
    ".groupBy('standardized_dept_name')\\\n",
    ".agg(mean('num_days_late'))\\\n",
    ".sort(desc('avg(num_days_late)'))\\\n",
    ".show(truncate=False)"
   ]
  },
  {
   "cell_type": "markdown",
   "id": "7f236e45-ed4d-4d5d-9ac8-12cb145bef51",
   "metadata": {},
   "source": [
    "# 12.) How do number of days late depend on department and request type?"
   ]
  },
  {
   "cell_type": "code",
   "execution_count": 39,
   "id": "c4c4c920-1f5b-42da-8297-b5f7279ac9db",
   "metadata": {},
   "outputs": [
    {
     "name": "stdout",
     "output_type": "stream",
     "text": [
      "+------------------------+----------------------------------------+------------------+\n",
      "|standardized_dept_name  |service_request_type                    |avg(num_days_late)|\n",
      "+------------------------+----------------------------------------+------------------+\n",
      "|DSD/Code Enforcement    |Zoning: Recycle Yard                    |210.89201994318182|\n",
      "|DSD/Code Enforcement    |Zoning: Junk Yards                      |200.2051760849428 |\n",
      "|DSD/Code Enforcement    |Structure/Housing Maintenance           |190.20707698509807|\n",
      "|DSD/Code Enforcement    |Donation Container Enforcement          |171.09115313942624|\n",
      "|DSD/Code Enforcement    |Storage of Used Mattress                |163.96812829714287|\n",
      "|DSD/Code Enforcement    |Labeling for Used Mattress              |162.43032902285717|\n",
      "|DSD/Code Enforcement    |Record Keeping of Used Mattresses       |153.99724039428568|\n",
      "|DSD/Code Enforcement    |Signage Requied for Sale of Used Mattr  |151.63868055333333|\n",
      "|Trans & Cap Improvements|Traffic Signal Graffiti                 |137.64583330000002|\n",
      "|DSD/Code Enforcement    |License Requied Used Mattress Sales     |128.79828704142858|\n",
      "|DSD/Code Enforcement    |Curbstoning                             |118.553051384608  |\n",
      "|DSD/Code Enforcement    |Vendors                                 |117.653927527797  |\n",
      "|DSD/Code Enforcement    |CPS Energy Wood Poles                   |115.18708329999998|\n",
      "|DSD/Code Enforcement    |Graffiti: Private Property (Corridors)  |114.09439580800002|\n",
      "|DSD/Code Enforcement    |Used Mattress Inspection                |108.14074724718749|\n",
      "|DSD/Code Enforcement    |DSDB Ordered/Hold Harmless/Regular: Main|94.90296008981379 |\n",
      "|DSD/Code Enforcement    |DSDB Ordered/Hold Harmless/Regular-ALL  |90.60137650743478 |\n",
      "|DSD/Code Enforcement    |DSDB Ordered/Hold Harmless/Regular: ASEC|88.67873591760811 |\n",
      "|Customer Service        |Complaint                               |88.24283610330846 |\n",
      "|DSD/Code Enforcement    |Zoning: Setbacks                        |86.72783777095412 |\n",
      "+------------------------+----------------------------------------+------------------+\n",
      "only showing top 20 rows\n",
      "\n"
     ]
    }
   ],
   "source": [
    "df.where('case_late==\"YES\"')\\\n",
    ".groupBy('standardized_dept_name', 'service_request_type')\\\n",
    ".agg(mean('num_days_late'))\\\n",
    ".sort(desc('avg(num_days_late)'))\\\n",
    ".show(truncate=False)"
   ]
  }
 ],
 "metadata": {
  "interpreter": {
   "hash": "3067ead486e059ec00ffe7555bdb889e6e264a24dc711bf108106cc7baee8d5d"
  },
  "kernelspec": {
   "display_name": "Python 3.9.12 ('base')",
   "language": "python",
   "name": "python3"
  },
  "language_info": {
   "codemirror_mode": {
    "name": "ipython",
    "version": 3
   },
   "file_extension": ".py",
   "mimetype": "text/x-python",
   "name": "python",
   "nbconvert_exporter": "python",
   "pygments_lexer": "ipython3",
   "version": "3.9.12"
  }
 },
 "nbformat": 4,
 "nbformat_minor": 5
}
